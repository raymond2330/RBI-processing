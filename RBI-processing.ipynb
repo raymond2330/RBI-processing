{
 "cells": [
  {
   "cell_type": "markdown",
   "id": "335f0667",
   "metadata": {},
   "source": [
    "RBI data needs to be processed well so that we can map it clear and map it to the database"
   ]
  },
  {
   "cell_type": "code",
   "execution_count": 4,
   "id": "d7a2b89f",
   "metadata": {},
   "outputs": [
    {
     "name": "stdout",
     "output_type": "stream",
     "text": [
      "Cleaned CSV saved to: RBI_2024_cleaned.csv\n"
     ]
    }
   ],
   "source": [
    "import pandas as pd\n",
    "\n",
    "# Load the Excel file\n",
    "excel_path = \"RBI 2024 sample.xlsx\"  # Replace with the path to your Excel file\n",
    "xls = pd.ExcelFile(excel_path)\n",
    "\n",
    "# Load the first sheet\n",
    "df = xls.parse(xls.sheet_names[0])\n",
    "\n",
    "# Step 1: Remove non-data rows and fully empty rows\n",
    "df_cleaned = df.dropna(how='all')  # Drop rows that are completely empty\n",
    "df_cleaned = df_cleaned[df_cleaned['LAST'] != 'HOUSEHOLD MEMBER/S']  # Remove internal headers\n",
    "\n",
    "# Step 2: Create a new column indicating if the person is the household head\n",
    "df_cleaned['Is Household Head'] = df_cleaned['RELATIONSHIP TO HOUSEHOLD HEAD'].apply(\n",
    "    lambda x: 'Yes' if isinstance(x, str) and x.strip().lower() == 'household head' else 'No'\n",
    ")\n",
    "\n",
    "# Step 3: Normalize date format\n",
    "df_cleaned['DATE OF BIRTH'] = pd.to_datetime(df_cleaned['DATE OF BIRTH'], errors='coerce').dt.date\n",
    "\n",
    "# Step 4: Save to CSV\n",
    "csv_path = \"RBI_2024_cleaned.csv\"\n",
    "df_cleaned.to_csv(csv_path, index=False)\n",
    "\n",
    "print(f\"Cleaned CSV saved to: {csv_path}\")\n"
   ]
  }
 ],
 "metadata": {
  "kernelspec": {
   "display_name": "venv",
   "language": "python",
   "name": "python3"
  },
  "language_info": {
   "codemirror_mode": {
    "name": "ipython",
    "version": 3
   },
   "file_extension": ".py",
   "mimetype": "text/x-python",
   "name": "python",
   "nbconvert_exporter": "python",
   "pygments_lexer": "ipython3",
   "version": "3.11.9"
  }
 },
 "nbformat": 4,
 "nbformat_minor": 5
}
